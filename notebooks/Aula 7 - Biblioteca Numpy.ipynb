{
 "cells": [
  {
   "cell_type": "markdown",
   "metadata": {},
   "source": [
    "<a href=\"http://www.cear.ufpb.br/pet\">\n",
    "    <img src=\"../images/logo_pet.png\" width=\"150px\" align=\"right\">\n",
    "</a>\n",
    "\n",
    "<h1 align=\"center\" style=\"color:blue\">Biblioteca Numpy</h1>\n",
    "\n",
    "<hr width=\"50%\" align=\"center\">"
   ]
  },
  {
   "cell_type": "markdown",
   "metadata": {},
   "source": [
    "<h2 align=\"left\" style=\"color:blue\">\n",
    "    A biblioteca Numpy é um pacote fundamental para computação científica em Python. \n",
    "</h2>\n",
    "\n",
    "<hr align=\"left\" width=\"200px\">"
    "<h3 align=\"left\" style=\"color:blue\">\n",
    " Proporcina trabalhar com objetos multidimensionais, matrizes e vetores, incluindo operações matemáticas, lógica e etc"
    "</h3>\n",
    "<hr align=\"left\" width=\"200px\">\n",
    "\n"
   ]
  },
  {
   "cell_type": "code",
   "execution_count": null,
   "metadata": {},
   "outputs": [],
   "source": []
  },
  {
   "cell_type": "code",
   "execution_count": null,
   "metadata": {},
   "outputs": [],
   "source": []
  },
  {
   "cell_type": "markdown",
   "metadata": {},
   "source": [
    "<div>\n",
    "    <a href=\"https://www.ufpb.br/\">\n",
    "        <img src=\"../images/logo_ufpb.png\" align=\"left\" height=\"50px\" width=\"70px\">\n",
    "    </a>\n",
    "    <a href=\"http://www.cear.ufpb.br/\">\n",
    "        <img src=\"../images/logo_cear.png\" align=\"left\" width=\"95px\">\n",
    "    </a>\n",
    "</div>"
   ]
  }
 ],
 "metadata": {
  "kernelspec": {
   "display_name": "Python 3.8.5 64-bit",
   "language": "python",
   "name": "python38564bitf10b2531f76f4b47b60f39a7e34cfc98"
  },
  "language_info": {
   "codemirror_mode": {
    "name": "ipython",
    "version": 3
   },
   "file_extension": ".py",
   "mimetype": "text/x-python",
   "name": "python",
   "nbconvert_exporter": "python",
   "pygments_lexer": "ipython3",
   "version": "3.8.5"
  }
 },
 "nbformat": 4,
 "nbformat_minor": 4
}
